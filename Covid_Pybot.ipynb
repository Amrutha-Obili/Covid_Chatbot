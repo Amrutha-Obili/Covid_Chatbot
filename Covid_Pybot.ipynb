{
  "nbformat": 4,
  "nbformat_minor": 0,
  "metadata": {
    "colab": {
      "name": "Copy of Untitled0.ipynb",
      "provenance": [],
      "collapsed_sections": [],
      "authorship_tag": "ABX9TyMhGPJAO3iHaV3viNjFSYQn",
      "include_colab_link": true
    },
    "kernelspec": {
      "name": "python3",
      "display_name": "Python 3"
    }
  },
  "cells": [
    {
      "cell_type": "markdown",
      "metadata": {
        "id": "view-in-github",
        "colab_type": "text"
      },
      "source": [
        "<a href=\"https://colab.research.google.com/github/Amrutha-Obili/Covid_Chatbot/blob/master/Covid_Pybot.ipynb\" target=\"_parent\"><img src=\"https://colab.research.google.com/assets/colab-badge.svg\" alt=\"Open In Colab\"/></a>"
      ]
    },
    {
      "cell_type": "code",
      "metadata": {
        "id": "faPlUgq-4pph",
        "colab_type": "code",
        "colab": {}
      },
      "source": [
        "import nltk\n",
        "import numpy as np\n",
        "import random\n",
        "import string"
      ],
      "execution_count": 39,
      "outputs": []
    },
    {
      "cell_type": "markdown",
      "metadata": {
        "id": "Ad9QEqw46d-v",
        "colab_type": "text"
      },
      "source": [
        "***\\\\Reading Data***"
      ]
    },
    {
      "cell_type": "code",
      "metadata": {
        "id": "d6yFlZ6S6uWP",
        "colab_type": "code",
        "colab": {
          "base_uri": "https://localhost:8080/",
          "height": 84
        },
        "outputId": "af9aa1c2-301d-4b60-8958-f05d972648f1"
      },
      "source": [
        "f=open('Chatbot.txt','r',errors='ignore')\n",
        "raw = f.read()\n",
        "raw = raw.lower()\n",
        "nltk.download('punkt')\n",
        "nltk.download('wordnet')\n",
        "sent_tokens = nltk.sent_tokenize(raw)\n",
        "word_tokens = nltk.word_tokenize(raw)"
      ],
      "execution_count": 40,
      "outputs": [
        {
          "output_type": "stream",
          "text": [
            "[nltk_data] Downloading package punkt to /root/nltk_data...\n",
            "[nltk_data]   Package punkt is already up-to-date!\n",
            "[nltk_data] Downloading package wordnet to /root/nltk_data...\n",
            "[nltk_data]   Package wordnet is already up-to-date!\n"
          ],
          "name": "stdout"
        }
      ]
    },
    {
      "cell_type": "markdown",
      "metadata": {
        "id": "hNNhCHqj8565",
        "colab_type": "text"
      },
      "source": [
        "\\\\**Processing the data**"
      ]
    },
    {
      "cell_type": "code",
      "metadata": {
        "id": "rSdcbOBr84HD",
        "colab_type": "code",
        "colab": {}
      },
      "source": [
        "lemmer = nltk.stem.WordNetLemmatizer()\n",
        "def LemTokens(tokens):\n",
        "  return [lemmer.lemmatize(token) for token in tokens]\n",
        "\n",
        "remove_punct_dict = dict ((ord(punct),None) for punct in string.punctuation)\n",
        "def LemNormalize(text):\n",
        "  return LemTokens(nltk.word_tokenize(text.lower().translate(remove_punct_dict)))"
      ],
      "execution_count": 41,
      "outputs": []
    },
    {
      "cell_type": "markdown",
      "metadata": {
        "id": "qfChycBjAnii",
        "colab_type": "text"
      },
      "source": [
        "\\\\**Greetings**"
      ]
    },
    {
      "cell_type": "code",
      "metadata": {
        "id": "8DP6gTkC_9Kr",
        "colab_type": "code",
        "colab": {}
      },
      "source": [
        "GREETING_INPUTS = (\"hello\",\"hi\",\"hey\",\"sup\",\"what's up\")\n",
        "GREETING_RESPONSES = [\"hi\",\"hey\",\"hi there\",\"hello\",\"Glad to speak with you\"]\n",
        "def greeting(sentence):\n",
        "  for word in sentence.split():\n",
        "    if word.lower() in GREETING_INPUTS:\n",
        "      return random.choice(GREETING_RESPONSES)"
      ],
      "execution_count": 42,
      "outputs": []
    },
    {
      "cell_type": "markdown",
      "metadata": {
        "id": "CMxTt6eqCGZO",
        "colab_type": "text"
      },
      "source": [
        "\\\\**Generating Responses**"
      ]
    },
    {
      "cell_type": "code",
      "metadata": {
        "id": "FKTA1I7zCNs1",
        "colab_type": "code",
        "colab": {}
      },
      "source": [
        "from sklearn.feature_extraction.text import TfidfVectorizer\n",
        "from sklearn.metrics.pairwise import cosine_similarity"
      ],
      "execution_count": 43,
      "outputs": []
    },
    {
      "cell_type": "markdown",
      "metadata": {
        "id": "ZKxHpRBaC8OV",
        "colab_type": "text"
      },
      "source": [
        "\\\\**Response function**"
      ]
    },
    {
      "cell_type": "code",
      "metadata": {
        "id": "hWHBmfE7DBLG",
        "colab_type": "code",
        "colab": {}
      },
      "source": [
        "def response(user_response):\n",
        "  robo_response =''\n",
        "  sent_tokens.append(user_response)\n",
        "  TfidfVec = TfidfVectorizer(tokenizer = LemNormalize,stop_words ='english')\n",
        "  tfidf = TfidfVec.fit_transform(sent_tokens)\n",
        "  vals = cosine_similarity(tfidf[-1], tfidf)\n",
        "  idx = vals.argsort()[0][-2]\n",
        "  flat = vals.flatten()\n",
        "  flat.sort()\n",
        "  req_tfidf = flat[-2]\n",
        "  if(req_tfidf==0):\n",
        "    robo_response = robo_response+ \"I am sorry! I don't understand you\"\n",
        "    return robo_response\n",
        "  else:\n",
        "    robo_response = robo_response+sent_tokens[idx]\n",
        "    return robo_response  "
      ],
      "execution_count": 44,
      "outputs": []
    },
    {
      "cell_type": "markdown",
      "metadata": {
        "id": "XrRfpqCNG_Ov",
        "colab_type": "text"
      },
      "source": [
        ""
      ]
    },
    {
      "cell_type": "markdown",
      "metadata": {
        "id": "ggavBUo9G_jn",
        "colab_type": "text"
      },
      "source": [
        "\\\\**Main (Start and Stop)**"
      ]
    },
    {
      "cell_type": "code",
      "metadata": {
        "id": "gpKFur-0HQrD",
        "colab_type": "code",
        "colab": {
          "base_uri": "https://localhost:8080/",
          "height": 457
        },
        "outputId": "43999d74-7ada-4d8b-f672-238e83ac9cb2"
      },
      "source": [
        "flag = True\n",
        "print(\"Covbot: I am Covbot! I can help you in Knowing about Covid 19. Type bye to quit\")\n",
        "while(flag==True):\n",
        "  user_response = input()\n",
        "  user_response = user_response.lower()\n",
        "  if (user_response!='bye'):\n",
        "    if (user_response == 'thanks' or user_response == 'thank you'):\n",
        "      flag=False\n",
        "      print(\"Covbot:Welcome!\")\n",
        "    else:\n",
        "      if (greeting(user_response)!=None):\n",
        "        print(\"Covbot:\"+greeting(user_response))\n",
        "      else:\n",
        "        print(\"Covbot:\",end=\"\")\n",
        "        print(response(user_response))\n",
        "        sent_tokens.remove(user_response)\n",
        "  else:\n",
        "     flag = False\n",
        "     print(\"Covbot: Hope you got the information required, bye!!\")"
      ],
      "execution_count": 45,
      "outputs": [
        {
          "output_type": "stream",
          "text": [
            "Covbot: I am Covbot! I can help you in Knowing about Covid 19. Type bye to quit\n",
            "hello\n",
            "Covbot:hi\n",
            "what are the symptoms of covid?\n"
          ],
          "name": "stdout"
        },
        {
          "output_type": "stream",
          "text": [
            "/usr/local/lib/python3.6/dist-packages/sklearn/feature_extraction/text.py:385: UserWarning: Your stop_words may be inconsistent with your preprocessing. Tokenizing the stop words generated tokens ['ha', 'le', 'u', 'wa'] not in stop_words.\n",
            "  'stop_words.' % sorted(inconsistent))\n"
          ],
          "name": "stderr"
        },
        {
          "output_type": "stream",
          "text": [
            "Covbot:most common symptoms of covid are fever, dry cough, tiredness, sour throat.\n",
            "what are the symptoms of corona virus?\n"
          ],
          "name": "stdout"
        },
        {
          "output_type": "stream",
          "text": [
            "/usr/local/lib/python3.6/dist-packages/sklearn/feature_extraction/text.py:385: UserWarning: Your stop_words may be inconsistent with your preprocessing. Tokenizing the stop words generated tokens ['ha', 'le', 'u', 'wa'] not in stop_words.\n",
            "  'stop_words.' % sorted(inconsistent))\n"
          ],
          "name": "stderr"
        },
        {
          "output_type": "stream",
          "text": [
            "Covbot:most common symptoms of covid are fever, dry cough, tiredness, sour throat.\n",
            "what is the number of covid cases in india?\n"
          ],
          "name": "stdout"
        },
        {
          "output_type": "stream",
          "text": [
            "/usr/local/lib/python3.6/dist-packages/sklearn/feature_extraction/text.py:385: UserWarning: Your stop_words may be inconsistent with your preprocessing. Tokenizing the stop words generated tokens ['ha', 'le', 'u', 'wa'] not in stop_words.\n",
            "  'stop_words.' % sorted(inconsistent))\n"
          ],
          "name": "stderr"
        },
        {
          "output_type": "stream",
          "text": [
            "Covbot:india has about 39,36,747 cases.\n",
            "what is the number of cases in maharashtra?\n"
          ],
          "name": "stdout"
        },
        {
          "output_type": "stream",
          "text": [
            "/usr/local/lib/python3.6/dist-packages/sklearn/feature_extraction/text.py:385: UserWarning: Your stop_words may be inconsistent with your preprocessing. Tokenizing the stop words generated tokens ['ha', 'le', 'u', 'wa'] not in stop_words.\n",
            "  'stop_words.' % sorted(inconsistent))\n"
          ],
          "name": "stderr"
        },
        {
          "output_type": "stream",
          "text": [
            "Covbot:maharashtra has 8,43,844 cases.\n",
            "does covid spread through food?\n"
          ],
          "name": "stdout"
        },
        {
          "output_type": "stream",
          "text": [
            "/usr/local/lib/python3.6/dist-packages/sklearn/feature_extraction/text.py:385: UserWarning: Your stop_words may be inconsistent with your preprocessing. Tokenizing the stop words generated tokens ['ha', 'le', 'u', 'wa'] not in stop_words.\n",
            "  'stop_words.' % sorted(inconsistent))\n"
          ],
          "name": "stderr"
        },
        {
          "output_type": "stream",
          "text": [
            "Covbot:there is no evidence to date of viruses that cause respiratory illnesses being transmitted via food or food packaging.\n",
            "bye\n",
            "Covbot: Hope you got the information required, bye!!\n"
          ],
          "name": "stdout"
        }
      ]
    }
  ]
}